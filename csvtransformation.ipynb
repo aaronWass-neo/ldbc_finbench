{
 "cells": [
  {
   "cell_type": "code",
   "execution_count": 1,
   "metadata": {},
   "outputs": [],
   "source": [
    "import os\n",
    "import csv\n",
    "\n",
    "def convert_pipe_to_comma_directory(input_dir, output_dir):\n",
    "    # Ensure output directory exists\n",
    "    os.makedirs(output_dir, exist_ok=True)\n",
    "\n",
    "    # List all files in the input directory\n",
    "    files = os.listdir(input_dir)\n",
    "    \n",
    "    for file_name in files:\n",
    "        if file_name.endswith('.csv'):\n",
    "            input_file = os.path.join(input_dir, file_name)\n",
    "            output_file = os.path.join(output_dir, file_name)\n",
    "\n",
    "            # Open the input file for reading\n",
    "            with open(input_file, 'r', newline='') as infile:\n",
    "                # Create a CSV reader for pipe delimiter\n",
    "                reader = csv.reader(infile, delimiter='|')\n",
    "                \n",
    "                # Open the output file for writing\n",
    "                with open(output_file, 'w', newline='') as outfile:\n",
    "                    # Create a CSV writer for comma delimiter\n",
    "                    writer = csv.writer(outfile, delimiter=',')\n",
    "                    \n",
    "                    # Iterate over each row in the input file and write to output file\n",
    "                    for row in reader:\n",
    "                        writer.writerow(row)\n",
    "\n",
    "            print(f'Conversion completed: {file_name}')\n",
    "\n",
    "    print(f'All files converted. Output files written to {output_dir}')\n",
    "\n",
    "# Example usage:\n",
    "input_directory = 'input_directory'\n",
    "output_directory = 'output_directory'\n",
    "\n"
   ]
  },
  {
   "cell_type": "code",
   "execution_count": 2,
   "metadata": {},
   "outputs": [
    {
     "name": "stdout",
     "output_type": "stream",
     "text": [
      "Conversion completed: AccountRepayLoan.csv\n",
      "Conversion completed: PersonGuaranteePerson.csv\n",
      "Conversion completed: Loan.csv\n",
      "Conversion completed: Company.csv\n",
      "Conversion completed: PersonInvestCompany.csv\n",
      "Conversion completed: CompanyInvestCompany.csv\n",
      "Conversion completed: AccountWithdrawAccount.csv\n",
      "Conversion completed: PersonApplyLoan.csv\n",
      "Conversion completed: CompanyGuaranteeCompany.csv\n",
      "Conversion completed: PersonOwnAccount.csv\n",
      "Conversion completed: Medium.csv\n",
      "Conversion completed: CompanyApplyLoan.csv\n",
      "Conversion completed: CompanyOwnAccount.csv\n",
      "Conversion completed: Person.csv\n",
      "Conversion completed: Account.csv\n",
      "Conversion completed: MediumSignInAccount.csv\n",
      "Conversion completed: AccountTransferAccount.csv\n",
      "Conversion completed: LoanDepositAccount.csv\n",
      "All files converted. Output files written to /Users/aaronwasserman/Documents/ldbc/sf0.1/commadelimited\n"
     ]
    }
   ],
   "source": [
    "input_directory = \"/Users/aaronwasserman/Documents/ldbc/sf0.1/snapshot\"\n",
    "\n",
    "output_directory = \"/Users/aaronwasserman/Documents/ldbc/sf0.1/commadelimited\"\n",
    "\n",
    "\n",
    "convert_pipe_to_comma_directory(input_directory, output_directory)"
   ]
  },
  {
   "cell_type": "code",
   "execution_count": null,
   "metadata": {},
   "outputs": [],
   "source": []
  }
 ],
 "metadata": {
  "interpreter": {
   "hash": "9b4ebea5dbc4f6031ae3caae874ab5a946631ed04454dac0c2b0613b1242db90"
  },
  "kernelspec": {
   "display_name": "Python 3.11.1 64-bit ('3.11.1')",
   "language": "python",
   "name": "python3"
  },
  "language_info": {
   "codemirror_mode": {
    "name": "ipython",
    "version": 3
   },
   "file_extension": ".py",
   "mimetype": "text/x-python",
   "name": "python",
   "nbconvert_exporter": "python",
   "pygments_lexer": "ipython3",
   "version": "3.10.13"
  },
  "orig_nbformat": 4
 },
 "nbformat": 4,
 "nbformat_minor": 2
}
